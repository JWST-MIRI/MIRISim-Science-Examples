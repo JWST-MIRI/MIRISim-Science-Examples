{
 "cells": [
  {
   "cell_type": "markdown",
   "metadata": {},
   "source": [
    "#  Y Dwarf:  MIRISim (LRS slit)\n",
    "\n",
    "#### This notebook replicates the MIRI LRS slit spectroscopy part of the Y Dwarfs JWST GTO programme (#1189) led by Thomas Roellig. \n",
    "\n",
    "**Science Objective:** \n",
    "The main science goals of this project are to study Y dwarfs cool atmospheres to obtain information about the\n",
    "composition and temperature-pressure structure in these objects' atmospheres.\n",
    "For this goal, we require high contrast spectroscopy using the fixed slit capabilities of MIRI.    \n",
    "    \n",
    "**In this notebook**, we create a scene with a point source representing the Y dwarf, add a model atmosphere for its spectral energy distribution (SED), and run through a MIRISim simulation showing the products created at each stage.\n",
    "\n",
    "**NOTE** this notebook must be started within  the correct anaconda environment in which you have MIRISim installed. This is a prerequisite for using MIRISim, and installation instructions can be found [here](http://miri.ster.kuleuven.be/bin/view/Public/MiricleInstallation).\n",
    "\n",
    "When launching the notebook, make sure in the right Anaconda environment. i.e. type\n",
    "\n",
    "<code> source activate miricle </code> \n",
    "\n",
    "in the terminal before starting the notebook.\n",
    "\n",
    "### Steps in this notebook:\n",
    "\n",
    "0. Import useful python packages\n",
    "1. Create a Scene\n",
    "2. Initialise the simulation parameters\n",
    "3. Run the simulation\n",
    "4. Examine some of the outputs.  "
   ]
  },
  {
   "cell_type": "markdown",
   "metadata": {},
   "source": [
    "## Step 0 - Some general python housekeeping\n",
    "### Import useful python packages"
   ]
  },
  {
   "cell_type": "code",
   "execution_count": 1,
   "metadata": {},
   "outputs": [],
   "source": [
    "# Import usefull python packages\n",
    "import numpy as np\n",
    "import glob                 # glob is used to find the output directory\n",
    "import os                   # for listing directory contents\n",
    "from astropy.io import fits # for reading FITS file contents\n",
    "\n",
    "# Import python packages used to display images inline in the notebook\n",
    "import matplotlib.pyplot as plt    \n",
    "from matplotlib import colors,cm\n",
    "%matplotlib inline       \n",
    "\n",
    "######################################\n",
    "# Now import MIRISim specific packages \n",
    "\n",
    "# import the configuration file parsers so they can be written to file\n",
    "from mirisim.config_parser import SimConfig, SimulatorConfig, SceneConfig\n",
    "\n",
    "# import scene component generators\n",
    "from mirisim.skysim import Background, sed, Point, Galaxy, kinetics, ExternalSed\n",
    "from mirisim.skysim import wrap_pysynphot as wS\n",
    "\n",
    "from mirisim import MiriSimulation         "
   ]
  },
  {
   "cell_type": "markdown",
   "metadata": {},
   "source": [
    "### Define some common functions \n",
    "\n",
    "1) <code>save_to_fits</code> - Used to save the generated scene to a fits file\n",
    "\n",
    "2) <code>show_outputs</code> - Used in ploting outputs from MIRISim\n",
    "\n",
    "3) <code>row_based_idx</code> - Used to fill matplotlib subplots by column, not row\n",
    "\n",
    "4) <code>show_skycubes_spec</code> - Used to plot the spectum in datacubes gernerated by MIRISim"
   ]
  },
  {
   "cell_type": "code",
   "execution_count": 2,
   "metadata": {},
   "outputs": [],
   "source": [
    "def save_to_fits(scene, light_path, filename='MIRISim_scene.fits', SpatialSampling=0.1, WavelengthRange=None, \n",
    "                 WavelengthSampling=0.01):\n",
    "    \"\"\"\n",
    "    Function to save the MIRISim scene to a fits file.\n",
    "    \n",
    "    :param filename: Name of file to save - default is \"MIRISim_scene.fits\"\n",
    "    :type filename: string       \n",
    "    \n",
    "    :param SpatialSampling: Spatial sampling (in arcsec) - default is 0.1 arcseconds\n",
    "    :type SpatialSampling: float\n",
    "    \n",
    "    :param WavelengthRange: Wavelength range to process (in microns) - default is [5, 28] microns\n",
    "    :type WavelengthRange: array\n",
    "    \n",
    "    :param WavelengthSampling: Channel width (in microns) - default is 0.1 arcseconds\n",
    "    :type WavelengthSampling: float\n",
    "    \n",
    "    :rtype: None\n",
    "    :raises Exception: when light_path parameter not set to MRS or IMA\n",
    "    \"\"\"\n",
    "    \n",
    "    # Avoids array being extended inside function for mutliple calls. Python gotcha\n",
    "    if WavelengthRange is None:\n",
    "        WavelengthRange = [5, 28]\n",
    "        \n",
    "    if light_path == 'IMA':\n",
    "        # IMA Field of view [xmin,xmax],[ymin,ymax] [arcsec]\n",
    "        FOV = np.array([[-57., 57.],[-57., 57.]])   \n",
    "    elif light_path == \"MRS\":\n",
    "        # MRS Field of view [xmin,xmax],[ymin,ymax] [arcsec]\n",
    "        FOV = np.array([[-4., 4.],[-4., 4.]])       \n",
    "    else:\n",
    "        raise Exception('Acceptable inputs for parameter light_path are [IMA] and [MRS]')\n",
    "    \n",
    "    # overwrite = True enables overwriting of any previous version of the fits file\n",
    "    # with the same name as that given in the writecube command\n",
    "    scene.writecube(cubefits = filename,\n",
    "                    FOV = FOV, time = 0.0,\n",
    "                    spatsampling = SpatialSampling,\n",
    "                    wrange = WavelengthRange,\n",
    "                    wsampling = WavelengthSampling,\n",
    "                    overwrite = True) "
   ]
  },
  {
   "cell_type": "code",
   "execution_count": 3,
   "metadata": {},
   "outputs": [],
   "source": [
    "def show_outputs(MIRISim_outputdir,output_type):\n",
    "    \"\"\"\n",
    "    Plot the specified channel of the MIRISim outputs\n",
    "    :param MIRISim_outputdir:  \n",
    "        name of the date-labelled dir. holding the MIRISIM outputs\n",
    "    :param output_type: \n",
    "        type of output to process \n",
    "        (e.g. illum_models, det_images or skycubes)\n",
    "    \"\"\"\n",
    "    \n",
    "    infits = glob.glob('{}/{}/*.fits'.format(MIRISim_outputdir,output_type))[0]\n",
    "    \n",
    "    hdulist = fits.open(infits)\n",
    "    \n",
    "    if output_type.lower() == 'skycubes': \n",
    "        hdu_index = 0\n",
    "        datashape = hdulist[hdu_index].data.shape\n",
    "        central_chan = datashape[0]//2\n",
    "        \n",
    "        plt.imshow(hdulist[hdu_index].data[central_chan,:,:],\n",
    "           origin = 'lower', interpolation = 'nearest',cmap = cm.viridis)\n",
    "        plt.title('channel {} of {}'.format(central_chan,infits.split('/')[-1]))\n",
    "        plt.xlabel(hdulist[hdu_index].header['ctype1'])\n",
    "        plt.ylabel(hdulist[hdu_index].header['ctype2'])\n",
    "    else:\n",
    "        hdu_index = 1\n",
    "        if len(hdulist[hdu_index].data.shape) > 2:\n",
    "            integ,frames,nx,ny = hdulist[hdu_index].data.shape\n",
    "            image = hdulist[hdu_index].data[integ-1,frames-1,:,:]\n",
    "        else:\n",
    "            image = hdulist[hdu_index].data\n",
    "            \n",
    "        \n",
    "        plt.imshow(image, origin = 'lower',cmap = cm.viridis,interpolation='nearest')\n",
    "        plt.title('{}'.format(infits.split('/')[-1]))\n",
    "        plt.xlabel('Along Slice Direction')\n",
    "        plt.ylabel('Wavelength Direction')\n",
    "\n",
    "    plt.colorbar()"
   ]
  },
  {
   "cell_type": "code",
   "execution_count": 4,
   "metadata": {},
   "outputs": [],
   "source": [
    "def row_based_idx(num_rows, num_cols, idx):\n",
    "    \"\"\"\n",
    "    Function to fill matplotlib subplots by column, not row\n",
    "    \"\"\"\n",
    "    return np.arange(1, num_rows*num_cols + 1).reshape((num_rows, num_cols)).transpose().flatten()[idx-1]"
   ]
  },
  {
   "cell_type": "code",
   "execution_count": 5,
   "metadata": {},
   "outputs": [],
   "source": [
    "def show_skycubes_spec(directory_list):\n",
    "    \"\"\"\n",
    "    Plots the average MIRISim spectra for each FOV from the 12 skycubes generated from \n",
    "    the Short, Medium and Long dispersers\n",
    "    :param directory_list:  \n",
    "        List containing the three output directories for MRS simulation results\n",
    "    \"\"\"    \n",
    "    \n",
    "    # Define subplot grid for the MRS skycubes\n",
    "    num_cols = 3 \n",
    "    num_rows = 4             \n",
    "\n",
    "    maxfigs = 12\n",
    "    fig = plt.figure(figsize=(10,3*num_rows))\n",
    "    i=0\n",
    "\n",
    "    for num, outputdir in enumerate(directory_list):\n",
    "        outputDirContents = os.listdir(outputdir)\n",
    "\n",
    "        directories = [name for name in outputDirContents if os.path.isdir(os.path.join(outputdir,name))]\n",
    "\n",
    "        filenames_skycube = glob.glob('{}/{}/*.fits'.format(outputdir,'skycubes')) # Get skycube file\n",
    "\n",
    "        for skycube_file in filenames_skycube:\n",
    "\n",
    "            hdu = fits.open(skycube_file)        # Open file \n",
    "            data_cube = hdu[0].data              # Get data \n",
    "            #datashape = hdu[0].data.shape       # Get data shape - Z, X, Y  \n",
    "\n",
    "            # Get the wavelength data \n",
    "            wav =  hdu[1].data\n",
    "\n",
    "            # Find the max and min wavelelgths for the output cube\n",
    "            vmin = wav[0]\n",
    "            vmax = wav[-1]       \n",
    "            #print(np.round(vmin,2), np.round(vmax,2))\n",
    "\n",
    "            # Get the flux data from an average of the cube\n",
    "            spectrum = data_cube.mean(axis=(1, 2))  \n",
    "\n",
    "            # Plot the spectrum - Each colum = short, medium, long\n",
    "            plt.subplot(num_rows, num_cols, row_based_idx(num_rows, num_cols,i+1))\n",
    "            plt.plot(wav, spectrum)                                       \n",
    "            #plt.xticks([])  # help clean up the plot\n",
    "            plt.yticks([])   # help clean up the plot \n",
    "            i+=1    \n",
    "\n",
    "    fig.add_subplot(111, frame_on=False)\n",
    "\n",
    "    plt.tick_params(labelcolor=\"none\", bottom=False, left=False)\n",
    "    plt.xlabel(\"Wavelength (microns)\", fontsize=14)\n",
    "    plt.ylabel(\"Flux (data units)\", fontsize=14)\n",
    "\n",
    "    fig.suptitle('    Short                           Medium                           Long', y=1.02, fontsize=18)\n",
    "\n",
    "    fig.tight_layout()\n",
    "\n",
    "    plt.show()\n",
    "    plt.close()    "
   ]
  },
  {
   "cell_type": "markdown",
   "metadata": {},
   "source": [
    "### Set flags for saving the MIRISim scene to a fits file - default is False \n",
    "\n",
    "We select false as the default as 1) a fits file of the scene is not necessary to run mirisim; 2) this step can take a long time to run; 3) once a scene has been saved as a fits file one this step is not necessary."
   ]
  },
  {
   "cell_type": "code",
   "execution_count": 6,
   "metadata": {},
   "outputs": [],
   "source": [
    "save_scene_as_fits = False"
   ]
  },
  {
   "cell_type": "markdown",
   "metadata": {},
   "source": [
    "## Step 1 - Create a Scene - this represents your science observation\n",
    "\n",
    "Each scene should include at minimum: 1) A background level; 2) A science source\n",
    "\n",
    "The scene created below consists of a low level background, a point source representing the Y dwarf. "
   ]
  },
  {
   "cell_type": "markdown",
   "metadata": {},
   "source": [
    "### Create a low level background for the scene"
   ]
  },
  {
   "cell_type": "code",
   "execution_count": 7,
   "metadata": {},
   "outputs": [
    {
     "name": "stderr",
     "output_type": "stream",
     "text": [
      "2020-03-06 14:05:28,843 - INFO - Initializing Background\n"
     ]
    }
   ],
   "source": [
    "bg = Background(level='low',gradient=1., pa=5.)"
   ]
  },
  {
   "cell_type": "markdown",
   "metadata": {},
   "source": [
    "### Create the Y Dwarf instance\n",
    "\n",
    "#### 1) First import the Y Dwarf SED from an external file\n",
    "\n",
    "Here the Y dwarf SED is taken from the T/Y dwarf models by Morler et al. 2014.  The specific model used here has T=450K, log g= 4.5, h = 0.5, f_sed=5, and scaled in brightness to replicate the JWST ETC and APT tutorial produced for the ESA JWST Masterclass by S. Kendrew. "
   ]
  },
  {
   "cell_type": "code",
   "execution_count": 8,
   "metadata": {},
   "outputs": [
    {
     "data": {
      "image/png": "[encoded data removed]",
      "text/plain": [
       "<Figure size 432x288 with 1 Axes>"
      ]
     },
     "metadata": {
      "needs_background": "light"
     },
     "output_type": "display_data"
    }
   ],
   "source": [
    "# Use: sedfile =  ExternalSed('extsed.txt') # filepath, columns 'wavelength' [microns] and 'flux' [muJy]\n",
    "ydwarf_sed = ExternalSed(sedfile = 'morley_ydwarf_mirisim.txt') \n",
    "\n",
    "# For zooming in on spectral ranges\n",
    "l_min = 5 #micron\n",
    "l_max = 14 #micron\n",
    "sp_min = np.abs(ydwarf_sed.Lam-l_min).argmin()\n",
    "sp_max = np.abs(ydwarf_sed.Lam-l_max).argmin()\n",
    "\n",
    "# Plot the spectrum of the Y dwarf for reference\n",
    "fig = plt.figure(figsize=(8, 6))\n",
    "ax = plt.subplots()[1]  \n",
    "ax.plot(ydwarf_sed.Lam[sp_min:sp_max], ydwarf_sed.fLam[sp_min:sp_max])   \n",
    "ax.set_xlabel(\"Wavelength (microns)\")  \n",
    "ax.set_ylabel(\"Flux ($\\mu$Jy)\")  \n",
    "ax.set_title(\"External SED of the Y Dwarf\")  \n",
    "plt.close(fig)"
   ]
  },
  {
   "cell_type": "markdown",
   "metadata": {},
   "source": [
    "### 2) Initialize a Y Dwarf object - located in the LRS slit.  \n",
    "\n",
    "In this example we are assuming the Y dwarf is a point source."
   ]
  },
  {
   "cell_type": "code",
   "execution_count": 9,
   "metadata": {},
   "outputs": [
    {
     "name": "stderr",
     "output_type": "stream",
     "text": [
      "2020-03-06 14:05:29,940 - INFO - Initializing Point\n"
     ]
    }
   ],
   "source": [
    "# Create a single point source\n",
    "ydwarf_slit_ps = Point(Cen=[0,0])"
   ]
  },
  {
   "cell_type": "markdown",
   "metadata": {},
   "source": [
    "### 3) Then attach the SED to an object  "
   ]
  },
  {
   "cell_type": "code",
   "execution_count": 10,
   "metadata": {},
   "outputs": [],
   "source": [
    "# Attached the SED\n",
    "ydwarf_slit_ps.set_SED(ydwarf_sed)\n",
    "                       \n",
    "# Add created pointsource to the compound target list called 'stars' for creating a scene\n",
    "slit_star = ydwarf_slit_ps\n",
    "\n",
    "# For writing to scene.ini file\n",
    "targetlist = [slit_star]"
   ]
  },
  {
   "cell_type": "markdown",
   "metadata": {},
   "source": [
    "### From the components, create a scene\n",
    "\n",
    "To create a scene adding together the background and target"
   ]
  },
  {
   "cell_type": "code",
   "execution_count": 11,
   "metadata": {},
   "outputs": [],
   "source": [
    "scene = bg +  slit_star"
   ]
  },
  {
   "cell_type": "markdown",
   "metadata": {},
   "source": [
    "### Export the scene to an ini file and FITS file (optional)\n",
    "\n",
    "Export scene to an ini file (for future use), or a FITS file to be visualised. This stage is not necessary if running mirisim in a notebook.\n",
    "\n",
    "Exporting to a FITS file requires specifying a number of additional parameters such as the Field of view, required spectral sampling, etc. They're described in more detail below. For large fields of view, and/or small spectral channels, which create large FITS files, writing to a FITS file can take a while (few minutes)\n"
   ]
  },
  {
   "cell_type": "code",
   "execution_count": 12,
   "metadata": {},
   "outputs": [],
   "source": [
    "# Used to run MIRISim within notebook\n",
    "scene_config = SceneConfig.makeScene(loglevel=0,\n",
    "                                    background=bg,\n",
    "                                    targets = targetlist)\n",
    "\n",
    "# Export to ini file - not necessary if runing mirisim in notebook\n",
    "os.system('rm -fr LRS_YDwarf_scene.ini')      # Remove previous version of .ini file\n",
    "scene_config.write('LRS_YDwarf_scene.ini')"
   ]
  },
  {
   "cell_type": "markdown",
   "metadata": {},
   "source": [
    "##### OPTIONAL - Save the generated scene to a fits file - Note this step can take a long time depending on the chosen parameters"
   ]
  },
  {
   "cell_type": "code",
   "execution_count": 13,
   "metadata": {},
   "outputs": [],
   "source": [
    "# Export to FITS file - Optional \n",
    "if save_scene_as_fits == True:\n",
    "    save_to_fits(scene, light_path=\"LRS\", filename='MIRISim_scene.fits')"
   ]
  },
  {
   "cell_type": "markdown",
   "metadata": {},
   "source": [
    "## Initialize the LRS Simulation Parameters\n",
    "\n",
    "This is where the parameters for the LRS simulation get set.  These should be set to match the desired MIRI LRS observation setup. \n",
    "\n",
    "**Note** MIRISim must have parameters set for all light paths in <code>SimConfig.makeSim</code> this includes some parameters not relevant to the MRS simulation defined in this file. Those relevant not being used in this simulation are labeled with <code> NOT USED HERE </code> in the comments of each line **and should not be deleted**.\n",
    "\n",
    "### Y Dwarf LRS observation set up:\n",
    "\n",
    "Here we want to simulate a spectrum covering the LRS wavelength range.  \n",
    "\n",
    "1. Dither = 2pt \n",
    "2. Read out mode = <code>FAST</code> selected based on best practices. \n",
    "\n",
    "####  Groups - Integrations\n",
    "120 groups and 10 integrations\n",
    "\n",
    "To modify this simulation for other observation setups the following parameters in sim_config should be changed:\n",
    "\n",
    "1) <code>ima_frames</code>\n",
    "2) <code>ima_integrations</code>\n",
    "3) <code>ima_exposures</code>"
   ]
  },
  {
   "cell_type": "code",
   "execution_count": 14,
   "metadata": {},
   "outputs": [],
   "source": [
    "sim_config = SimConfig.makeSim(\n",
    "    name = 'MIRI_LRSslit_dither_YDwarf',    # name given to simulation\n",
    "    scene = 'LRS_YDwarf_scene.ini',         # name of scene file to input\n",
    "    rel_obsdate = 1.0,                      # relative observation date (0 = launch, 1 = end of 5 yrs)\n",
    "    \n",
    "    POP = 'IMA',                        # Component on which to center (Imager or MRS)\n",
    "    ConfigPath = 'LRS_SLIT',            # Configure the Optical path \n",
    "    \n",
    "    Dither = True,                      # Nod along the slit\n",
    "    StartInd = 1,                       # start index for dither pattern \n",
    "    NDither = 2,                        # number of dither positions \n",
    "    DitherPat = 'lrs_recommended_dither.dat', # dither pattern to use\n",
    "    \n",
    "\n",
    "    ima_exposures = 1,            # number of exposures\n",
    "    ima_integrations = 10,        # number of integrations\n",
    "    ima_frames = 120,             # number of groups (for MIRI, # Groups = # Frames)\n",
    "    ima_mode = 'FAST',            # Imager read mode (default is FAST ~ 2.3 s)\n",
    "    filter = 'P750L',             # Imager Filter to use\n",
    "    readDetect = 'FULL',          # Portion of detector to read out\n",
    "    \n",
    "    disperser = 'SHORT',        # [NOT USED HERE]\n",
    "    detector = 'SW',            # [NOT USED HERE]\n",
    "    mrs_mode = 'SLOW',          # [NOT USED HERE]\n",
    "    mrs_exposures = 10,         # [NOT USED HERE]\n",
    "    mrs_integrations = 3,       # [NOT USED HERE]\n",
    "    mrs_frames = 10             # [NOT USED HERE]\n",
    "    \n",
    ")"
   ]
  },
  {
   "cell_type": "markdown",
   "metadata": {},
   "source": [
    "### Optional: Export the simulation setup to a file\n",
    "\n",
    "Not necessary as saved in mirisim output in the date stamped output directory. Included here as naming each file explicitly for record keeping.  "
   ]
  },
  {
   "cell_type": "code",
   "execution_count": 15,
   "metadata": {},
   "outputs": [],
   "source": [
    "os.system('rm -fr MIRI_LRSslit_dither.ini')\n",
    "sim_config.write('MIRI_LRSslit_dither.ini')"
   ]
  },
  {
   "cell_type": "markdown",
   "metadata": {},
   "source": [
    "## Run the simulation\n",
    "\n",
    "Now that the scene and the setup of the simulation have been set, we can run the simulation.\n",
    "\n",
    "The last step is to setup the defaults for internal things like calibration data products (CDPs)."
   ]
  },
  {
   "cell_type": "code",
   "execution_count": 16,
   "metadata": {},
   "outputs": [],
   "source": [
    "# Get the simulation configuration perameters using the default setup\n",
    "simulator_config = SimulatorConfig.from_default()"
   ]
  },
  {
   "cell_type": "code",
   "execution_count": 17,
   "metadata": {},
   "outputs": [
    {
     "name": "stderr",
     "output_type": "stream",
     "text": [
      "2020-03-06 14:05:30,022 - INFO - MIRISim version: 2.2.0\n",
      "2020-03-06 14:05:30,023 - INFO - MIRI Simulation started.\n",
      "2020-03-06 14:05:30,024 - INFO - Output will be saved to: 20200306_140530_mirisim\n",
      "2020-03-06 14:05:30,025 - INFO - Storing configs in output directory.\n",
      "2020-03-06 14:05:34,507 - INFO - Reading cosmic ray properties from parameter file /Users/ojones/anaconda3/envs/miricle/lib/python3.6/site-packages/miri/simulators/scasim/cosmic_ray_properties.py\n",
      "2020-03-06 14:05:34,587 - INFO - Reading detector properties from parameter file /Users/ojones/anaconda3/envs/miricle/lib/python3.6/site-packages/miri/simulators/scasim/detector_properties.py\n",
      "2020-03-06 14:05:34,961 - INFO - Storing dither pattern in output directory.\n",
      "2020-03-06 14:05:34,976 - INFO - Using $CDP_DIR for location of CDP files: /Users/ojones/Data/MIRI_testing\n",
      "2020-03-06 14:05:34,977 - INFO - Setting up simulated Observation, with following settings:\n",
      "2020-03-06 14:05:34,978 - INFO - Configuration Path: LRS_SLIT\n",
      "2020-03-06 14:05:34,979 - INFO - Primary optical path: IMA\n",
      "2020-03-06 14:05:34,981 - INFO - IMA Filter: P750L\n",
      "2020-03-06 14:05:34,982 - INFO - IMA Subarray: FULL\n",
      "2020-03-06 14:05:34,983 - INFO - IMA detector readout mode: FAST\n",
      "2020-03-06 14:05:34,984 - INFO - IMA detector # exposures: 1\n",
      "2020-03-06 14:05:34,985 - INFO - IMA detector # integrations: 10\n",
      "2020-03-06 14:05:34,985 - INFO - IMA detector # frames: 120\n",
      "2020-03-06 14:05:34,986 - INFO - Parsing: Background\n",
      "2020-03-06 14:05:34,987 - INFO - Initializing Background\n",
      "2020-03-06 14:05:34,988 - INFO - Parsing: point_1\n",
      "2020-03-06 14:05:34,989 - INFO - Initializing Point\n",
      "2020-03-06 14:05:35,532 - INFO - Simulating dithered observation using pattern: lrs_recommended_dither.dat\n",
      "2020-03-06 14:05:35,534 - INFO - Number of dithers defined in dither pattern: 2\n",
      "2020-03-06 14:05:35,535 - INFO - Starting index of executed dither pattern: 1\n",
      "2020-03-06 14:05:35,536 - INFO - Number of executed dither positions: 2\n",
      "2020-03-06 14:05:37,885 - INFO - Reading 'DISTORTION' model from '/Users/ojones/Data/MIRI_testing/fitsCDP/MIRI_FM_MIRIMAGE_P750L_DISTORTION_07.02.00.fits'\n",
      "2020-03-06 14:05:39,583 - INFO - Reading 'DISTORTION' model from '/Users/ojones/Data/MIRI_testing/fitsCDP/MIRI_FM_MIRIMAGE_DISTORTION_07.04.01.fits'\n",
      "2020-03-06 14:05:39,845 - INFO - Reading 'DISTORTION' model from '/Users/ojones/Data/MIRI_testing/fitsCDP/MIRI_FM_MIRIMAGE_DISTORTION_07.04.01.fits'\n",
      "2020-03-06 14:05:40,011 - INFO - Reading 'DISTORTION' model from '/Users/ojones/Data/MIRI_testing/fitsCDP/MIRI_FM_MIRIMAGE_P750L_DISTORTION_07.02.00.fits'\n",
      "2020-03-06 14:05:40,146 - INFO - Creating pointing for position 1\n",
      "2020-03-06 14:05:40,147 - INFO - Creating exposure event for position 1\n",
      "2020-03-06 14:05:40,148 - INFO - Reading 'DISTORTION' model from '/Users/ojones/Data/MIRI_testing/fitsCDP/MIRI_FM_MIRIMAGE_P750L_DISTORTION_07.02.00.fits'\n",
      "2020-03-06 14:05:40,201 - INFO - Reading 'DISTORTION' model from '/Users/ojones/Data/MIRI_testing/fitsCDP/MIRI_FM_MIRIMAGE_DISTORTION_07.04.01.fits'\n",
      "2020-03-06 14:05:40,416 - INFO - Reading 'DISTORTION' model from '/Users/ojones/Data/MIRI_testing/fitsCDP/MIRI_FM_MIRIMAGE_P750L_DISTORTION_07.02.00.fits'\n",
      "2020-03-06 14:05:40,486 - INFO - Reading 'DISTORTION' model from '/Users/ojones/Data/MIRI_testing/fitsCDP/MIRI_FM_MIRIMAGE_DISTORTION_07.04.01.fits'\n",
      "2020-03-06 14:05:40,782 - INFO - Creating pointing for position 2\n",
      "2020-03-06 14:05:40,784 - INFO - Creating offset event before dither position 2\n",
      "2020-03-06 14:05:40,784 - INFO - Creating exposure event for position 2\n",
      "2020-03-06 14:05:40,786 - INFO - Reading 'DISTORTION' model from '/Users/ojones/Data/MIRI_testing/fitsCDP/MIRI_FM_MIRIMAGE_P750L_DISTORTION_07.02.00.fits'\n",
      "2020-03-06 14:05:40,834 - INFO - Reading 'DISTORTION' model from '/Users/ojones/Data/MIRI_testing/fitsCDP/MIRI_FM_MIRIMAGE_DISTORTION_07.04.01.fits'\n",
      "2020-03-06 14:05:41,057 - INFO - Reading 'DISTORTION' model from '/Users/ojones/Data/MIRI_testing/fitsCDP/MIRI_FM_MIRIMAGE_P750L_DISTORTION_07.02.00.fits'\n",
      "2020-03-06 14:05:41,110 - INFO - Reading 'DISTORTION' model from '/Users/ojones/Data/MIRI_testing/fitsCDP/MIRI_FM_MIRIMAGE_DISTORTION_07.04.01.fits'\n",
      "2020-03-06 14:05:41,299 - INFO - Observation simulation started.\n",
      "2020-03-06 14:05:41,300 - INFO - Simulating ExposureEvent for pointing 1\n",
      "2020-03-06 14:05:41,302 - INFO - Simulating Lrs exposures for pointing 1\n",
      "2020-03-06 14:05:41,303 - INFO - Simulating detector illumination for Lrs exposures for pointing 1\n",
      "2020-03-06 14:05:41,304 - INFO - lrs simulator processing  cfgpath=LRS_SLIT\n",
      "2020-03-06 14:05:41,305 - INFO - lrssim takes CDP PSF\n",
      "2020-03-06 14:05:41,307 - INFO - Reading 'DISTORTION' model from '/Users/ojones/Data/MIRI_testing/fitsCDP/MIRI_FM_MIRIMAGE_P750L_DISTORTION_07.02.00.fits'\n",
      "2020-03-06 14:05:41,367 - INFO - Reading 'AREA' model from '/Users/ojones/Data/MIRI_testing/fitsCDP/MIRI_FM_MIRIMAGE_AREA_07.00.00.fits'\n",
      "2020-03-06 14:05:41,452 - INFO - v2_ref= -415.069047, v3_ref=-400.575920 , v2_off=0.937144, v3_off=-0.077920, pa=0.000000\n",
      "2020-03-06 14:05:41,454 - INFO - Reading 'DISTORTION' model from '/Users/ojones/Data/MIRI_testing/fitsCDP/MIRI_FM_MIRIMAGE_DISTORTION_07.04.01.fits'\n",
      "2020-03-06 14:05:41,861 - INFO - use PHOTOM (SRF) CDP to convert flux\n",
      "2020-03-06 14:05:41,863 - INFO - Reading 'PHOTOM' model from '/Users/ojones/Data/MIRI_testing/fitsCDP/MIRI_FM_MIRIMAGE_PHOTOM_07.02.00.fits'\n",
      "2020-03-06 14:05:42,041 - INFO - use PHOTOM (SRF) CDP to convert flux\n",
      "2020-03-06 14:05:42,043 - INFO - Reading 'PHOTOM' model from '/Users/ojones/Data/MIRI_testing/fitsCDP/MIRI_FM_MIRIMAGE_PHOTOM_07.02.00.fits'\n",
      "2020-03-06 14:05:42,085 - INFO - Reading 'PSF' model from '/Users/ojones/Data/MIRI_testing/fitsCDP/MIRI_FM_MIRIMAGE_P750L_PSF_07.04.00.fits'\n",
      "2020-03-06 14:05:42,201 - INFO - Retrieving file for Lrs Array Mask: FocalPlaneMask\n",
      "2020-03-06 14:05:42,238 - INFO - 1 point sources in scene\n",
      "2020-03-06 14:05:42,239 - INFO - point source no: 0\n",
      "2020-03-06 14:05:42,240 - INFO - lrs simulator processing in get_point_int in mirisim.lrssim.lrs\n",
      "2020-03-06 14:05:42,348 - INFO - xcenter 329.6308987550732\n",
      "2020-03-06 14:05:42,348 - INFO - ycenter 299.7207764088504\n",
      "2020-03-06 14:05:42,350 - INFO - xdiff 8.500898755073194\n",
      "2020-03-06 14:05:42,351 - INFO - ydiff 0.020776408850395\n",
      "2020-03-06 14:05:42,450 - INFO - lrs simulator processing in get_extended_from_scene_lrs in mirisim.lrssim.lrs\n",
      "2020-03-06 14:05:42,451 - INFO - no extended sources in scene\n",
      "2020-03-06 14:05:42,452 - INFO - no extended sources are computed\n",
      "2020-03-06 14:05:42,453 - INFO - lrs simulator processing in extract_sky_cube in mirisim.lrssim.lrs\n",
      "2020-03-06 14:05:42,454 - INFO - no scenecube sources in scene\n",
      "2020-03-06 14:05:42,455 - INFO - no fits skyCube sources are computed\n",
      "2020-03-06 14:05:42,456 - INFO - lrs simulator processing in get_background_from_scene_lrs in mirisim.lrssim.lrs\n",
      "2020-03-06 14:05:42,457 - INFO - 1 backgrounds available in scene\n",
      "2020-03-06 14:05:43,054 - INFO - Wrote illumination model: 20200306_140530_mirisim/illum_models/illum_model_1_MIRIMAGE_P750L.fits\n",
      "2020-03-06 14:05:43,055 - INFO - Simulating integrated detector images for Lrs exposures for pointing 1\n",
      "2020-03-06 14:05:43,055 - INFO - Simulating LRS exposure 1\n",
      "2020-03-06 14:05:43,059 - INFO - Running SCASim\n",
      "2020-03-06 14:05:43,060 - INFO - Simulating  detector readout for MIRIMAGE from illumination data model of shape (1024, 1024).\n",
      "2020-03-06 14:05:43,073 - INFO - Results will be returned in an exposure data model.\n",
      "2020-03-06 14:05:43,090 - INFO -   Detector readout mode is FAST (samplesum=1, sampleskip=0, nframe=1, groupgap=0) \n",
      "2020-03-06 14:05:43,092 - INFO -   with 10 integrations and ngroups=120 defined explicitly.\n",
      "2020-03-06 14:05:43,092 - INFO -   Detector subarray mode is FULL.\n",
      "2020-03-06 14:05:43,093 - INFO - Detector temperature = 6.70 K (which affects dark current and read noise).\n",
      "2020-03-06 14:05:43,094 - INFO - Cosmic ray environment is SOLAR_MIN.\n",
      "2020-03-06 14:05:43,096 - INFO - Reading cosmic ray library file: '/Users/ojones/anaconda3/envs/miricle/lib/python3.6/site-packages/miri/simulators/data/cosmic_rays/CRs_SiAs_470_SUNMIN_05.fits'\n",
      "2020-03-06 14:05:43,176 - INFO - Simulation control flags:\n",
      "2020-03-06 14:05:43,177 - INFO - \tQuantum efficiency simulation turned OFF.\n"
     ]
    },
    {
     "name": "stderr",
     "output_type": "stream",
     "text": [
      "2020-03-06 14:05:43,179 - INFO - \tPoisson noise simulation turned ON.\n",
      "2020-03-06 14:05:43,180 - INFO - \tRead noise simulation turned ON.\n",
      "2020-03-06 14:05:43,181 - INFO - \tReference pixels simulation turned ON.\n",
      "2020-03-06 14:05:43,181 - INFO - \tBad pixels simulation turned ON.\n",
      "2020-03-06 14:05:43,182 - INFO - \tDark current simulation turned ON.\n",
      "2020-03-06 14:05:43,183 - INFO - \tFlat-field simulation turned ON.\n",
      "2020-03-06 14:05:43,184 - INFO - \tAmplifier bias and gain turned ON.\n",
      "2020-03-06 14:05:43,185 - INFO - \tDetector non-linearity effects turned ON.\n",
      "2020-03-06 14:05:43,186 - INFO - \tDetector drift effects turned ON.\n",
      "2020-03-06 14:05:43,187 - INFO - \tDetector latency effects turned ON.\n",
      "2020-03-06 14:05:43,188 - INFO - Creating a new detector object for 1024 rows x 1024 columns.\n",
      "2020-03-06 14:05:43,193 - INFO - Reading 'MASK' model from '/Users/ojones/Data/MIRI_testing/fitsCDP/MIRI_FM_MIRIMAGE_MASK_07.02.01.fits'\n",
      "2020-03-06 14:05:43,307 - INFO - Reading 'GAIN' model from '/Users/ojones/Data/MIRI_testing/fitsCDP/MIRI_FM_MIRIMAGE_GAIN_04.00.00.fits'\n",
      "2020-03-06 14:06:02,081 - INFO - Reading DARK model from '/Users/ojones/Data/MIRI_testing/fitsCDP/MIRI_FM_MIRIMAGE_FAST_DARK_06.01.00.fits'\n",
      "2020-03-06 14:06:02,311 - INFO - Reading 'PIXELFLAT' model from '/Users/ojones/Data/MIRI_testing/fitsCDP/MIRI_FM_MIRIMAGE_P750L_PIXELFLAT_07.01.01.fits'\n",
      "2020-03-06 14:06:02,421 - WARNING - Could not find exact match for pixel flat-field for detector MIRIMAGE with FAST mode with filter='P750L'. An alternative is being used.\n",
      "2020-03-06 14:06:02,515 - INFO - Reading 'LINEARITY' model from '/Users/ojones/Data/MIRI_testing/fitsCDP/MIRI_FM_MIRIMAGE_LINEARITY_06.02.00.fits'\n",
      "2020-03-06 14:06:02,772 - INFO - Reading 'READNOISE' model from '/Users/ojones/Data/MIRI_testing/fitsCDP/MIRI_FM_MIRIMAGE_FAST_READNOISE_07.01.00.fits'\n",
      "2020-03-06 14:06:02,833 - INFO - Creating exposure_data with 1280 rows x 1032 columns plus 120 groups and 10 ints.\n",
      "2020-03-06 14:06:03,058 - INFO - Simulating 10 integrations.\n",
      "2020-03-06 14:06:03,138 - INFO - Simulating 120 groups for integration 1.\n",
      "2020-03-06 14:06:29,823 - INFO - Simulating 120 groups for integration 2.\n",
      "2020-03-06 14:06:56,641 - INFO - Simulating 120 groups for integration 3.\n",
      "2020-03-06 14:07:24,463 - INFO - Simulating 120 groups for integration 4.\n",
      "2020-03-06 14:07:51,748 - INFO - Simulating 120 groups for integration 5.\n",
      "2020-03-06 14:08:18,608 - INFO - Simulating 120 groups for integration 6.\n",
      "2020-03-06 14:08:47,205 - INFO - Simulating 120 groups for integration 7.\n",
      "2020-03-06 14:09:14,956 - INFO - Simulating 120 groups for integration 8.\n",
      "2020-03-06 14:09:45,459 - INFO - Simulating 120 groups for integration 9.\n",
      "2020-03-06 14:10:16,550 - INFO - Simulating 120 groups for integration 10.\n",
      "2020-03-06 14:10:42,782 - INFO - Adding the DARK calibration from /Users/ojones/Data/MIRI_testing/fitsCDP/MIRI_FM_MIRIMAGE_FAST_DARK_06.01.00.fits\n",
      "2020-03-06 14:11:27,114 - INFO - Correcting nonlinearity from MIRI_FM_MIRIMAGE_LINEARITY_06.02.00.fits\n",
      "2020-03-06 14:14:30,601 - INFO - Exposure time 3330.05s (duration 3331.10s) \n",
      "2020-03-06 14:15:14,303 - INFO - Wrote detector image: 20200306_140530_mirisim/det_images/det_image_seq1_MIRIMAGE_P750Lexp1.fits\n",
      "2020-03-06 14:15:14,366 - INFO - Simulating OffsetEvent, time elapsed: 30.0 seconds\n",
      "2020-03-06 14:15:14,921 - INFO - Simulating ExposureEvent for pointing 2\n",
      "2020-03-06 14:15:14,924 - INFO - Simulating Lrs exposures for pointing 2\n",
      "2020-03-06 14:15:14,925 - INFO - Simulating detector illumination for Lrs exposures for pointing 2\n",
      "2020-03-06 14:15:14,930 - INFO - lrs simulator processing  cfgpath=LRS_SLIT\n",
      "2020-03-06 14:15:14,931 - INFO - lrssim takes CDP PSF\n",
      "2020-03-06 14:15:14,939 - INFO - Reading 'DISTORTION' model from '/Users/ojones/Data/MIRI_testing/fitsCDP/MIRI_FM_MIRIMAGE_P750L_DISTORTION_07.02.00.fits'\n",
      "2020-03-06 14:15:15,097 - INFO - Reading 'AREA' model from '/Users/ojones/Data/MIRI_testing/fitsCDP/MIRI_FM_MIRIMAGE_AREA_07.00.00.fits'\n",
      "2020-03-06 14:15:15,163 - INFO - v2_ref= -415.069047, v3_ref=-400.575920 , v2_off=-0.947098, v3_off=0.078699, pa=0.000000\n",
      "2020-03-06 14:15:15,166 - INFO - Reading 'DISTORTION' model from '/Users/ojones/Data/MIRI_testing/fitsCDP/MIRI_FM_MIRIMAGE_DISTORTION_07.04.01.fits'\n",
      "2020-03-06 14:15:15,661 - INFO - use PHOTOM (SRF) CDP to convert flux\n",
      "2020-03-06 14:15:15,664 - INFO - Reading 'PHOTOM' model from '/Users/ojones/Data/MIRI_testing/fitsCDP/MIRI_FM_MIRIMAGE_PHOTOM_07.02.00.fits'\n",
      "2020-03-06 14:15:15,840 - INFO - use PHOTOM (SRF) CDP to convert flux\n",
      "2020-03-06 14:15:15,841 - INFO - Reading 'PHOTOM' model from '/Users/ojones/Data/MIRI_testing/fitsCDP/MIRI_FM_MIRIMAGE_PHOTOM_07.02.00.fits'\n",
      "2020-03-06 14:15:15,895 - INFO - Reading 'PSF' model from '/Users/ojones/Data/MIRI_testing/fitsCDP/MIRI_FM_MIRIMAGE_P750L_PSF_07.04.00.fits'\n",
      "2020-03-06 14:15:15,987 - INFO - Retrieving file for Lrs Array Mask: FocalPlaneMask\n",
      "2020-03-06 14:15:16,019 - INFO - 1 point sources in scene\n",
      "2020-03-06 14:15:16,020 - INFO - point source no: 0\n",
      "2020-03-06 14:15:16,021 - INFO - lrs simulator processing in get_point_int in mirisim.lrssim.lrs\n",
      "2020-03-06 14:15:16,147 - INFO - xcenter 312.5410408690607\n",
      "2020-03-06 14:15:16,148 - INFO - ycenter 299.7204678717255\n",
      "2020-03-06 14:15:16,149 - INFO - xdiff -8.588959130939315\n",
      "2020-03-06 14:15:16,150 - INFO - ydiff 0.020467871725486475\n",
      "2020-03-06 14:15:16,248 - INFO - lrs simulator processing in get_extended_from_scene_lrs in mirisim.lrssim.lrs\n",
      "2020-03-06 14:15:16,249 - INFO - no extended sources in scene\n",
      "2020-03-06 14:15:16,250 - INFO - no extended sources are computed\n",
      "2020-03-06 14:15:16,250 - INFO - lrs simulator processing in extract_sky_cube in mirisim.lrssim.lrs\n",
      "2020-03-06 14:15:16,251 - INFO - no scenecube sources in scene\n",
      "2020-03-06 14:15:16,251 - INFO - no fits skyCube sources are computed\n",
      "2020-03-06 14:15:16,252 - INFO - lrs simulator processing in get_background_from_scene_lrs in mirisim.lrssim.lrs\n",
      "2020-03-06 14:15:16,253 - INFO - 1 backgrounds available in scene\n",
      "2020-03-06 14:15:16,781 - INFO - Wrote illumination model: 20200306_140530_mirisim/illum_models/illum_model_2_MIRIMAGE_P750L.fits\n",
      "2020-03-06 14:15:16,782 - INFO - Simulating integrated detector images for Lrs exposures for pointing 2\n",
      "2020-03-06 14:15:16,783 - INFO - Simulating LRS exposure 1\n",
      "2020-03-06 14:15:16,787 - INFO - Running SCASim\n",
      "2020-03-06 14:15:16,788 - INFO - Simulating  detector readout for MIRIMAGE from illumination data model of shape (1024, 1024).\n",
      "2020-03-06 14:15:16,804 - INFO - Results will be returned in an exposure data model.\n",
      "2020-03-06 14:15:16,825 - INFO -   Detector readout mode is FAST (samplesum=1, sampleskip=0, nframe=1, groupgap=0) \n",
      "2020-03-06 14:15:16,826 - INFO -   with 10 integrations and ngroups=120 defined explicitly.\n",
      "2020-03-06 14:15:16,827 - INFO -   Detector subarray mode is FULL.\n",
      "2020-03-06 14:15:16,830 - INFO - Detector temperature = 6.70 K (which affects dark current and read noise).\n",
      "2020-03-06 14:15:16,832 - INFO - Cosmic ray environment is SOLAR_MIN. (No change.)\n",
      "2020-03-06 14:15:16,833 - INFO - Simulation control flags:\n",
      "2020-03-06 14:15:16,834 - INFO - \tQuantum efficiency simulation turned OFF.\n",
      "2020-03-06 14:15:16,838 - INFO - \tPoisson noise simulation turned ON.\n",
      "2020-03-06 14:15:16,839 - INFO - \tRead noise simulation turned ON.\n",
      "2020-03-06 14:15:16,840 - INFO - \tReference pixels simulation turned ON.\n",
      "2020-03-06 14:15:16,842 - INFO - \tBad pixels simulation turned ON.\n",
      "2020-03-06 14:15:16,843 - INFO - \tDark current simulation turned ON.\n",
      "2020-03-06 14:15:16,844 - INFO - \tFlat-field simulation turned ON.\n",
      "2020-03-06 14:15:16,845 - INFO - \tAmplifier bias and gain turned ON.\n",
      "2020-03-06 14:15:16,847 - INFO - \tDetector non-linearity effects turned ON.\n",
      "2020-03-06 14:15:16,848 - INFO - \tDetector drift effects turned ON.\n",
      "2020-03-06 14:15:16,850 - INFO - \tDetector latency effects turned ON.\n",
      "2020-03-06 14:15:16,853 - INFO - Reading 'MASK' model from '/Users/ojones/Data/MIRI_testing/fitsCDP/MIRI_FM_MIRIMAGE_MASK_07.02.01.fits'\n",
      "2020-03-06 14:15:16,950 - INFO - Reading 'GAIN' model from '/Users/ojones/Data/MIRI_testing/fitsCDP/MIRI_FM_MIRIMAGE_GAIN_04.00.00.fits'\n",
      "2020-03-06 14:15:17,015 - INFO - Reading DARK model from '/Users/ojones/Data/MIRI_testing/fitsCDP/MIRI_FM_MIRIMAGE_FAST_DARK_06.01.00.fits'\n"
     ]
    },
    {
     "name": "stderr",
     "output_type": "stream",
     "text": [
      "2020-03-06 14:15:17,191 - INFO - Reading 'PIXELFLAT' model from '/Users/ojones/Data/MIRI_testing/fitsCDP/MIRI_FM_MIRIMAGE_P750L_PIXELFLAT_07.01.01.fits'\n",
      "2020-03-06 14:15:17,265 - WARNING - Could not find exact match for pixel flat-field for detector MIRIMAGE with FAST mode with filter='P750L'. An alternative is being used.\n",
      "2020-03-06 14:15:17,361 - INFO - Reading 'LINEARITY' model from '/Users/ojones/Data/MIRI_testing/fitsCDP/MIRI_FM_MIRIMAGE_LINEARITY_06.02.00.fits'\n",
      "2020-03-06 14:15:17,647 - INFO - Reading 'READNOISE' model from '/Users/ojones/Data/MIRI_testing/fitsCDP/MIRI_FM_MIRIMAGE_FAST_READNOISE_07.01.00.fits'\n",
      "2020-03-06 14:15:17,711 - INFO - Creating exposure_data with 1280 rows x 1032 columns plus 120 groups and 10 ints.\n",
      "2020-03-06 14:15:17,822 - INFO - Simulating 10 integrations.\n",
      "2020-03-06 14:15:17,934 - INFO - Simulating 120 groups for integration 1.\n",
      "2020-03-06 14:15:45,477 - INFO - Simulating 120 groups for integration 2.\n",
      "2020-03-06 14:16:13,388 - INFO - Simulating 120 groups for integration 3.\n",
      "2020-03-06 14:16:40,785 - INFO - Simulating 120 groups for integration 4.\n",
      "2020-03-06 14:17:07,901 - INFO - Simulating 120 groups for integration 5.\n",
      "2020-03-06 14:17:35,666 - INFO - Simulating 120 groups for integration 6.\n",
      "2020-03-06 14:18:05,681 - INFO - Simulating 120 groups for integration 7.\n",
      "2020-03-06 14:18:37,578 - INFO - Simulating 120 groups for integration 8.\n",
      "2020-03-06 14:19:05,280 - INFO - Simulating 120 groups for integration 9.\n",
      "2020-03-06 14:19:35,939 - INFO - Simulating 120 groups for integration 10.\n",
      "2020-03-06 14:20:05,321 - INFO - Adding the DARK calibration from /Users/ojones/Data/MIRI_testing/fitsCDP/MIRI_FM_MIRIMAGE_FAST_DARK_06.01.00.fits\n",
      "2020-03-06 14:20:52,236 - INFO - Correcting nonlinearity from MIRI_FM_MIRIMAGE_LINEARITY_06.02.00.fits\n",
      "2020-03-06 14:23:45,875 - INFO - Exposure time 3330.05s (duration 3331.10s) \n",
      "2020-03-06 14:24:30,673 - INFO - Wrote detector image: 20200306_140530_mirisim/det_images/det_image_seq2_MIRIMAGE_P750Lexp1.fits\n",
      "2020-03-06 14:24:30,701 - INFO - MIRI Simulation finished. Results have been saved to: 20200306_140530_mirisim\n",
      "\n"
     ]
    }
   ],
   "source": [
    "# Run simulation\n",
    "mysim = MiriSimulation(sim_config,scene_config,simulator_config)\n",
    "mysim.run()   "
   ]
  },
  {
   "cell_type": "markdown",
   "metadata": {},
   "source": [
    "## Examine some of the results\n",
    "\n",
    "Now that the MIRISim simulation has completed, lets examine the results. \n",
    "\n",
    "\n",
    "The first thing to note is that the outputs are placed in a date-labelled directory taking the form  <code> YYYYMMDD_hhmmss_mirisim</code>.  The name of the output directory is given in the last line of the MIRISim log above.  Because the output directory is date-labelled, we can quantify which was the most recent run of MIRISim, and find its output directory using <code>glob.glob</code>\n",
    "\n",
    "### The results of the simulation are contained in the most recent directory. "
   ]
  },
  {
   "cell_type": "code",
   "execution_count": 18,
   "metadata": {},
   "outputs": [
    {
     "name": "stdout",
     "output_type": "stream",
     "text": [
      "The subdirectories in the output directory are:\n",
      "['det_images', 'illum_models']\n",
      "The files in the output directory are:\n",
      "['lrs_recommended_dither.dat', 'mirisim.log', 'scene.ini', 'simulation.ini', 'simulator.ini']\n"
     ]
    }
   ],
   "source": [
    "outputdir = sorted(glob.glob('*_*_mirisim'),key=os.path.getmtime)[-1]    #[-1] takes the last entry found\n",
    "\n",
    "outputDirContents = os.listdir(outputdir)\n",
    "\n",
    "directories = [name for name in outputDirContents if os.path.isdir(os.path.join(outputdir,name))]\n",
    "files = [name for name in outputDirContents if not os.path.isdir(os.path.join(outputdir,name))]\n",
    "\n",
    "print('The subdirectories in the output directory are:\\n{}'.format(directories))\n",
    "print('The files in the output directory are:\\n{}'.format(files))"
   ]
  },
  {
   "cell_type": "markdown",
   "metadata": {},
   "source": [
    "### Viewing an illumination model\n",
    "\n",
    "Below shows an example of the output illumination model.  The illumination model is the representation of the light from the scene that is hitting the detector. It has all of the transformations and distortions (and for spectroscopy, the dispersions) applied to the light from the scene. This is then input to the detector simulator which applies the sensitivity models, cosmic rays and noise sources of the instrument.  "
   ]
  },
  {
   "cell_type": "code",
   "execution_count": 19,
   "metadata": {},
   "outputs": [
    {
     "data": {
      "image/png": "[encoded data removed]",
      "text/plain": [
       "<Figure size 432x288 with 2 Axes>"
      ]
     },
     "metadata": {
      "needs_background": "light"
     },
     "output_type": "display_data"
    }
   ],
   "source": [
    "show_outputs(outputdir,'illum_models')"
   ]
  },
  {
   "cell_type": "markdown",
   "metadata": {},
   "source": [
    "## Viewing the final detector image\n",
    "\n",
    "The detector images are the final output of MIRISim, and have data structures and formatting consistent with what will come from MIRI itself. The data format is JWST pipeline ready.  Below an example image of the last frame of the last integration is shown. The units are <code>DN</code>.\n",
    "\n",
    "Additionally, below the FITS header information for the SCIENCE extension is listed"
   ]
  },
  {
   "cell_type": "code",
   "execution_count": 20,
   "metadata": {},
   "outputs": [
    {
     "data": {
      "text/plain": [
       "XTENSION= 'IMAGE   '           / Image extension                                \n",
       "BITPIX  =                  -32 / array data type                                \n",
       "NAXIS   =                    4 / number of array dimensions                     \n",
       "NAXIS1  =                 1032                                                  \n",
       "NAXIS2  =                 1024                                                  \n",
       "NAXIS3  =                  120                                                  \n",
       "NAXIS4  =                   10                                                  \n",
       "PCOUNT  =                    0 / number of parameters                           \n",
       "GCOUNT  =                    1 / number of groups                               \n",
       "EXTNAME = 'SCI     '           / extension name                                 \n",
       "                                                                                \n",
       "        Information about the coordinates in the file                           \n",
       "                                                                                \n",
       "RADESYS = 'ICRS    '           / Name of the coordinate reference frame         \n",
       "                                                                                \n",
       "        Information about the data array                                        \n",
       "                                                                                \n",
       "BUNIT   = 'DN      '           / Units of the data array                        \n",
       "                                                                                \n",
       "        Spacecraft pointing information                                         \n",
       "                                                                                \n",
       "RA_V1   =   0.1155572751928241 / [deg] RA of telescope V1 axis                  \n",
       "DEC_V1  =   0.1112494445652017 / [deg] Dec of telescope V1 axis                 \n",
       "PA_V3   =                 -0.0 / [deg] Position angle of telescope V3 axis      \n",
       "                                                                                \n",
       "        WCS parameters                                                          \n",
       "                                                                                \n",
       "WCSAXES =                    3 / number of World Coordinate System axes         \n",
       "CRPIX1  =                    5 / axis 1 coordinate of the reference pixel       \n",
       "CRPIX2  =                    1 / axis 2 coordinate of the reference pixel       \n",
       "CRPIX3  =                    0 / axis 3 coordinate of the reference pixel       \n",
       "CRVAL1  =                  0.0 / first axis value at the reference pixel        \n",
       "CRVAL2  =                  0.0 / second axis value at the reference pixel       \n",
       "CRVAL3  =                  0.0 / third axis value at the reference pixel        \n",
       "CTYPE1  = '' / first axis coordinate type                                       \n",
       "CTYPE2  = '' / second axis coordinate type                                      \n",
       "CTYPE3  = '' / third axis coordinate type                                       \n",
       "CUNIT1  = '' / first axis units                                                 \n",
       "CUNIT2  = '' / second axis units                                                \n",
       "CUNIT3  = '' / third axis units                                                 \n",
       "CDELT1  =                  1.0 / first axis increment per pixel                 \n",
       "CDELT2  =                  1.0 / second axis increment per pixel                \n",
       "CDELT3  =                  1.0 / third axis increment per pixel                 \n",
       "V2_REF  =   -415.0690466121227 / [arcsec] Telescope v2 coordinate of the referen\n",
       "V3_REF  =    -400.575920398547 / [arcsec] Telescope v3 coordinate of the referen\n",
       "VPARITY =                   -1 / Relative sense of rotation between Ideal xy and\n",
       "V3I_YANG=                  0.0 / [deg] Angle from V3 axis to Ideal y axis       \n",
       "RA_REF  = 0.000260317800567769 / [deg] Right ascension of the reference point   \n",
       "DEC_REF = -2.1644434394655E-05 / [deg] Declination of the reference point       \n",
       "ROLL_REF=                 -0.0 / [deg] Telescope roll angle of V3 measured from \n",
       "EXTVER  =                    1 / extension value                                "
      ]
     },
     "execution_count": 20,
     "metadata": {},
     "output_type": "execute_result"
    },
    {
     "data": {
      "image/png": "[encoded data removed]",
      "text/plain": [
       "<Figure size 432x288 with 2 Axes>"
      ]
     },
     "metadata": {
      "needs_background": "light"
     },
     "output_type": "display_data"
    }
   ],
   "source": [
    "show_outputs(outputdir,'det_images')\n",
    "\n",
    "infits = glob.glob('{}/det_images/*.fits'.format(outputdir))[0]\n",
    "hdulist = fits.open(infits)\n",
    "hdulist[1].header"
   ]
  },
  {
   "cell_type": "markdown",
   "metadata": {},
   "source": [
    "## The outputs of MIRISim can now be run through the JWST pipeline see:\n",
    "###  https://jwst-docs.stsci.edu/jwst-data-reduction-pipeline and https://jwst-pipeline.readthedocs.io/en/stable/"
   ]
  },
  {
   "cell_type": "code",
   "execution_count": null,
   "metadata": {},
   "outputs": [],
   "source": []
  }
 ],
 "metadata": {
  "kernelspec": {
   "display_name": "Python 3",
   "language": "python",
   "name": "python3"
  },
  "language_info": {
   "codemirror_mode": {
    "name": "ipython",
    "version": 3
   },
   "file_extension": ".py",
   "mimetype": "text/x-python",
   "name": "python",
   "nbconvert_exporter": "python",
   "pygments_lexer": "ipython3",
   "version": "3.6.8"
  }
 },
 "nbformat": 4,
 "nbformat_minor": 2
}
